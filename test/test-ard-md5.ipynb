{
 "cells": [
  {
   "cell_type": "code",
   "execution_count": 1,
   "metadata": {
    "scrolled": true
   },
   "outputs": [],
   "source": [
    "from fido.ardtile import Tile\n",
    "from fido.ardtile import ParseFileName"
   ]
  },
  {
   "cell_type": "code",
   "execution_count": 2,
   "metadata": {},
   "outputs": [
    {
     "name": "stdout",
     "output_type": "stream",
     "text": [
      "/data/logs/test-ard.log\n"
     ]
    }
   ],
   "source": [
    "import logging\n",
    "\n",
    "from fido.files import mkdirs\n",
    "\n",
    "logfile = \"/data/logs/test-ard.log\"\n",
    "created_file = mkdirs(logfile)\n",
    "if created_file is None:\n",
    "    print(\"Bullshit!\")\n",
    "else:\n",
    "    print(created_file)\n",
    "\n",
    "# my_level = logging.DEBUG\n",
    "my_level = logging.INFO\n",
    "\n",
    "logging.basicConfig(filename=logfile, level=my_level,\n",
    "                    format='%(levelname)s,%(name)s,%(asctime)s,%(message)s,')\n",
    "\n"
   ]
  },
  {
   "cell_type": "code",
   "execution_count": 3,
   "metadata": {},
   "outputs": [
    {
     "name": "stdout",
     "output_type": "stream",
     "text": [
      "LC08  LE07  logs  LT05\r\n"
     ]
    }
   ],
   "source": [
    "!ls /data"
   ]
  },
  {
   "cell_type": "code",
   "execution_count": 4,
   "metadata": {},
   "outputs": [
    {
     "name": "stdout",
     "output_type": "stream",
     "text": [
      "yay the md5 file is here...\n",
      "\n"
     ]
    }
   ],
   "source": [
    "t = Tile()\n",
    "\n",
    "t.get_md5_list()"
   ]
  },
  {
   "cell_type": "code",
   "execution_count": 5,
   "metadata": {},
   "outputs": [
    {
     "name": "stdout",
     "output_type": "stream",
     "text": [
      "ee-notebook1.ipynb  junk.py   one.py\r\n",
      "h03v03.md5_list     Makefile  test-ard-md5.ipynb\r\n"
     ]
    }
   ],
   "source": [
    "!ls\n"
   ]
  },
  {
   "cell_type": "code",
   "execution_count": 6,
   "metadata": {},
   "outputs": [
    {
     "name": "stdout",
     "output_type": "stream",
     "text": [
      "c35ba1d979cf6f0dc943e3fd0abd8d4c\tLC08_CU_003003_20130414_20170713_C01_V01_BT.tar\r\n",
      "1d17156a9a9e07623015719109fc3b61\tLC08_CU_003003_20130414_20170713_C01_V01_QA.tar\r\n",
      "a70bf6263fa3bce1dc135ef683fc4847\tLC08_CU_003003_20130414_20170713_C01_V01_SR.tar\r\n",
      "92e0ef70226b2be16df86338d261b926\tLC08_CU_003003_20130414_20170713_C01_V01_TA.tar\r\n",
      "b699e2a767b138ac63ca65bf71a85813\tLC08_CU_003003_20130421_20170713_C01_V01_BT.tar\r\n",
      "17321a4541ed0965e5a5474e82dbe53f\tLC08_CU_003003_20130421_20170713_C01_V01_QA.tar\r\n",
      "1a4a14d4bb6ff3df9186d3b449b491d3\tLC08_CU_003003_20130421_20170713_C01_V01_SR.tar\r\n",
      "76d97c218127297686ef37cfd31723e9\tLC08_CU_003003_20130421_20170713_C01_V01_TA.tar\r\n",
      "4a1a3a939107bded78fffdd011c70499\tLC08_CU_003003_20130423_20170713_C01_V01_BT.tar\r\n",
      "88cf6b14f72d86b83fdf2479d45043ff\tLC08_CU_003003_20130423_20170713_C01_V01_QA.tar\r\n"
     ]
    }
   ],
   "source": [
    "!head h03v03.md5_list"
   ]
  },
  {
   "cell_type": "code",
   "execution_count": 7,
   "metadata": {},
   "outputs": [
    {
     "name": "stdout",
     "output_type": "stream",
     "text": [
      "dir= /data/LT05/19840414\n",
      "\n",
      "LT05_CU_003003_19840414_20170711_C01_V01_BT.tar\n",
      "hello from wgetxml getting file LT05_CU_003003_19840414_20170711_C01_V01_BT.tar\n",
      "wget -O /data/LT05/19840414/LT05_CU_003003_19840414_20170711_C01_V01_BT.tar https://edclpdsftp.cr.usgs.gov/downloads/collections/l2-ard-tiles/h03v03/LT05_CU_003003_19840414_20170711_C01_V01_BT.tar\n",
      "\n",
      "hello from untarFile decompressing file LT05_CU_003003_19840414_20170711_C01_V01_BT.tar\n",
      "tar -xvf LT05_CU_003003_19840414_20170711_C01_V01_BT.tar\n",
      "LT05_CU_003003_19840414_20170711_C01_V01_BTB6.tif\n",
      "LT05_CU_003003_19840414_20170711_C01_V01_RADSATQA.tif\n",
      "LT05_CU_003003_19840414_20170711_C01_V01_PIXELQA.tif\n",
      "LT05_CU_003003_19840414_20170711_C01_V01_LINEAGEQA.tif\n",
      "LT05_CU_003003_19840414_20170711_C01_V01.xml\n",
      "##########################################################################################\n",
      "LT05_CU_003003_19840414_20170711_C01_V01_BTB6.tif\n",
      "hello from s3cp copying file LT05_CU_003003_19840414_20170711_C01_V01_BTB6.tif\n",
      "aws s3 cp LT05_CU_003003_19840414_20170711_C01_V01_BTB6.tif s3://ga-odc-eros-ard-west/usard/LT05/19840414/LT05_CU_003003_19840414_20170711_C01_V01_BTB6.tif\n",
      "upload: ./LT05_CU_003003_19840414_20170711_C01_V01_BTB6.tif to s3://ga-odc-eros-ard-west/usard/LT05/19840414/LT05_CU_003003_19840414_20170711_C01_V01_BTB6.tif\n",
      "\n",
      "dir= /data/LT05/19840507\n",
      "\n",
      "LT05_CU_003003_19840507_20170711_C01_V01_BT.tar\n",
      "hello from wgetxml getting file LT05_CU_003003_19840507_20170711_C01_V01_BT.tar\n",
      "wget -O /data/LT05/19840507/LT05_CU_003003_19840507_20170711_C01_V01_BT.tar https://edclpdsftp.cr.usgs.gov/downloads/collections/l2-ard-tiles/h03v03/LT05_CU_003003_19840507_20170711_C01_V01_BT.tar\n",
      "\n",
      "hello from untarFile decompressing file LT05_CU_003003_19840507_20170711_C01_V01_BT.tar\n",
      "tar -xvf LT05_CU_003003_19840507_20170711_C01_V01_BT.tar\n",
      "LT05_CU_003003_19840507_20170711_C01_V01_BTB6.tif\n",
      "LT05_CU_003003_19840507_20170711_C01_V01_RADSATQA.tif\n",
      "LT05_CU_003003_19840507_20170711_C01_V01_PIXELQA.tif\n",
      "LT05_CU_003003_19840507_20170711_C01_V01_LINEAGEQA.tif\n",
      "LT05_CU_003003_19840507_20170711_C01_V01.xml\n",
      "##########################################################################################\n",
      "LT05_CU_003003_19840507_20170711_C01_V01_BTB6.tif\n",
      "hello from s3cp copying file LT05_CU_003003_19840507_20170711_C01_V01_BTB6.tif\n",
      "aws s3 cp LT05_CU_003003_19840507_20170711_C01_V01_BTB6.tif s3://ga-odc-eros-ard-west/usard/LT05/19840507/LT05_CU_003003_19840507_20170711_C01_V01_BTB6.tif\n",
      "upload: ./LT05_CU_003003_19840507_20170711_C01_V01_BTB6.tif to s3://ga-odc-eros-ard-west/usard/LT05/19840507/LT05_CU_003003_19840507_20170711_C01_V01_BTB6.tif\n",
      "\n"
     ]
    }
   ],
   "source": [
    "cnt = 0\n",
    "max = 3\n",
    "sensor = 'LT05'\n",
    "for line in t.readlines('./h03v03.md5_list'):\n",
    "    cksum,file = line.split()\n",
    "    if (sensor in file) and ('BT'in file):\n",
    "        # print(line, end=\"\")\n",
    "        cnt = cnt + 1\n",
    "        if (cnt < max):\n",
    "            logging.info(\"Processing file : %s\" % file)\n",
    "            t.get_file(file)\n",
    "            t.untar_file(file)\n",
    "            bt_list = t.get_file_list(file, 'BTB')\n",
    "            for bt in bt_list:\n",
    "                print(\"###\"*30)\n",
    "                print(bt)\n",
    "                t.send_file_s3(bt)\n",
    "            t.rm_tmpdir(file)"
   ]
  },
  {
   "cell_type": "code",
   "execution_count": 8,
   "metadata": {},
   "outputs": [
    {
     "name": "stdout",
     "output_type": "stream",
     "text": [
      "/data:\r\n",
      "total 16\r\n",
      "drwxrwxr-x 2 tony tony 4096 Nov 11 08:52 LC08\r\n",
      "drwxrwxr-x 2 tony tony 4096 Nov 11 08:36 LE07\r\n",
      "drwxrwxr-x 2 tony tony 4096 Nov 11 13:02 logs\r\n",
      "drwxrwxr-x 2 tony tony 4096 Nov 11 13:07 LT05\r\n",
      "\r\n",
      "/data/LC08:\r\n",
      "total 0\r\n",
      "\r\n",
      "/data/LE07:\r\n",
      "total 0\r\n",
      "\r\n",
      "/data/logs:\r\n",
      "total 4\r\n",
      "-rw-rw-r-- 1 tony tony 202 Nov 11 13:07 test-ard.log\r\n",
      "\r\n",
      "/data/LT05:\r\n",
      "total 0\r\n"
     ]
    }
   ],
   "source": [
    "! ls -lR /data"
   ]
  },
  {
   "cell_type": "code",
   "execution_count": 9,
   "metadata": {},
   "outputs": [],
   "source": [
    "! aws s3 ls s3://ga-odc-eros-ard-west/LC08/20130414/"
   ]
  },
  {
   "cell_type": "code",
   "execution_count": 10,
   "metadata": {},
   "outputs": [
    {
     "name": "stdout",
     "output_type": "stream",
     "text": [
      "2018-10-01 13:18:41      66463 LC08_CU_003003_20130414_20170713_C01_V01.xml\r\n",
      "2018-11-11 08:49:42   10487104 LC08_CU_003003_20130414_20170713_C01_V01_BTB10.tif\r\n",
      "2018-11-11 08:49:56   10390880 LC08_CU_003003_20130414_20170713_C01_V01_BTB11.tif\r\n",
      "2018-10-01 13:18:41     160971 LC08_CU_003003_20130414_20170713_C01_V01_LINEAGEQA.tif\r\n",
      "2018-10-01 13:18:41    1342485 LC08_CU_003003_20130414_20170713_C01_V01_PIXELQA.tif\r\n",
      "2018-10-01 13:18:41     138029 LC08_CU_003003_20130414_20170713_C01_V01_RADSATQA.tif\r\n",
      "2018-10-01 13:18:41    1837745 LC08_CU_003003_20130414_20170713_C01_V01_SRAEROSOLQA.tif\r\n",
      "2018-10-01 13:18:41   39298042 LC08_CU_003003_20130414_20170713_C01_V01_SRB1.tif\r\n",
      "2018-10-01 13:18:42   38523848 LC08_CU_003003_20130414_20170713_C01_V01_SRB2.tif\r\n",
      "2018-10-01 13:18:41   38000602 LC08_CU_003003_20130414_20170713_C01_V01_SRB3.tif\r\n",
      "2018-10-01 13:18:41   38095706 LC08_CU_003003_20130414_20170713_C01_V01_SRB4.tif\r\n",
      "2018-10-01 13:18:41   38376794 LC08_CU_003003_20130414_20170713_C01_V01_SRB5.tif\r\n",
      "2018-10-01 13:18:42   35673838 LC08_CU_003003_20130414_20170713_C01_V01_SRB6.tif\r\n",
      "2018-10-01 13:18:42   34596878 LC08_CU_003003_20130414_20170713_C01_V01_SRB7.tif\r\n"
     ]
    }
   ],
   "source": [
    "! aws s3 ls s3://ga-odc-eros-ard-west/usard/LC08/20130414/"
   ]
  },
  {
   "cell_type": "code",
   "execution_count": 11,
   "metadata": {},
   "outputs": [
    {
     "name": "stdout",
     "output_type": "stream",
     "text": [
      "2018-10-01 13:18:43      66268 LC08_CU_003003_20130421_20170713_C01_V01.xml\r\n",
      "2018-11-11 08:52:21    2097482 LC08_CU_003003_20130421_20170713_C01_V01_BTB10.tif\r\n",
      "2018-11-11 08:52:18    2107378 LC08_CU_003003_20130421_20170713_C01_V01_BTB11.tif\r\n",
      "2018-10-01 13:18:43      79621 LC08_CU_003003_20130421_20170713_C01_V01_LINEAGEQA.tif\r\n",
      "2018-10-01 13:18:43     300023 LC08_CU_003003_20130421_20170713_C01_V01_PIXELQA.tif\r\n",
      "2018-10-01 13:18:43     171753 LC08_CU_003003_20130421_20170713_C01_V01_RADSATQA.tif\r\n",
      "2018-10-01 13:18:43     177197 LC08_CU_003003_20130421_20170713_C01_V01_SRAEROSOLQA.tif\r\n",
      "2018-10-01 13:18:43    9734770 LC08_CU_003003_20130421_20170713_C01_V01_SRB1.tif\r\n",
      "2018-10-01 13:18:43    9823884 LC08_CU_003003_20130421_20170713_C01_V01_SRB2.tif\r\n",
      "2018-10-01 13:18:43    9797048 LC08_CU_003003_20130421_20170713_C01_V01_SRB3.tif\r\n",
      "2018-10-01 13:18:45    9901914 LC08_CU_003003_20130421_20170713_C01_V01_SRB4.tif\r\n",
      "2018-10-01 13:18:44    9779452 LC08_CU_003003_20130421_20170713_C01_V01_SRB5.tif\r\n",
      "2018-10-01 13:18:44    9818938 LC08_CU_003003_20130421_20170713_C01_V01_SRB6.tif\r\n",
      "2018-10-01 13:18:44    9877558 LC08_CU_003003_20130421_20170713_C01_V01_SRB7.tif\r\n"
     ]
    }
   ],
   "source": [
    "! aws s3 ls s3://ga-odc-eros-ard-west/usard/LC08/20130421/"
   ]
  },
  {
   "cell_type": "code",
   "execution_count": 12,
   "metadata": {},
   "outputs": [
    {
     "name": "stdout",
     "output_type": "stream",
     "text": [
      "2018-10-01 13:27:14      60792 LE07_CU_003003_19990712_20170712_C01_V01.xml\r\n",
      "2018-11-11 08:36:54    3324952 LE07_CU_003003_19990712_20170712_C01_V01_BTB6.tif\r\n",
      "2018-10-01 13:27:15      76943 LE07_CU_003003_19990712_20170712_C01_V01_LINEAGEQA.tif\r\n",
      "2018-10-01 13:27:15     236427 LE07_CU_003003_19990712_20170712_C01_V01_PIXELQA.tif\r\n",
      "2018-10-01 13:27:15     126845 LE07_CU_003003_19990712_20170712_C01_V01_RADSATQA.tif\r\n",
      "2018-10-01 13:27:15     541260 LE07_CU_003003_19990712_20170712_C01_V01_SRATMOSOPACITYQA.tif\r\n",
      "2018-10-01 13:27:15    5726750 LE07_CU_003003_19990712_20170712_C01_V01_SRB1.tif\r\n",
      "2018-10-01 13:27:15    5877716 LE07_CU_003003_19990712_20170712_C01_V01_SRB2.tif\r\n",
      "2018-10-01 13:27:15    6599266 LE07_CU_003003_19990712_20170712_C01_V01_SRB3.tif\r\n",
      "2018-10-01 13:27:15    8893296 LE07_CU_003003_19990712_20170712_C01_V01_SRB4.tif\r\n",
      "2018-10-01 13:27:15    8004290 LE07_CU_003003_19990712_20170712_C01_V01_SRB5.tif\r\n",
      "2018-10-01 13:27:15    6869730 LE07_CU_003003_19990712_20170712_C01_V01_SRB7.tif\r\n",
      "2018-10-01 13:27:15     583591 LE07_CU_003003_19990712_20170712_C01_V01_SRCLOUDQA.tif\r\n"
     ]
    }
   ],
   "source": [
    "! aws s3 ls s3://ga-odc-eros-ard-west/usard/LE07/19990712/"
   ]
  },
  {
   "cell_type": "code",
   "execution_count": 13,
   "metadata": {},
   "outputs": [
    {
     "name": "stdout",
     "output_type": "stream",
     "text": [
      "/opt/usard-fido\r\n"
     ]
    }
   ],
   "source": [
    "!pwd\n"
   ]
  },
  {
   "cell_type": "code",
   "execution_count": 14,
   "metadata": {},
   "outputs": [
    {
     "name": "stdout",
     "output_type": "stream",
     "text": [
      "/opt/usard-fido\r\n"
     ]
    }
   ],
   "source": [
    "!cd\n",
    "!pwd"
   ]
  },
  {
   "cell_type": "code",
   "execution_count": 15,
   "metadata": {},
   "outputs": [
    {
     "name": "stdout",
     "output_type": "stream",
     "text": [
      "/opt/usard-fido\r\n"
     ]
    }
   ],
   "source": [
    "!cd /opt/usard-fido && pwd\n"
   ]
  },
  {
   "cell_type": "code",
   "execution_count": 16,
   "metadata": {},
   "outputs": [
    {
     "name": "stdout",
     "output_type": "stream",
     "text": [
      "2018-10-01 13:40:44      60790 LT05_CU_003003_19840507_20170711_C01_V01.xml\r\n",
      "2018-11-11 13:07:43    2400176 LT05_CU_003003_19840507_20170711_C01_V01_BTB6.tif\r\n",
      "2018-10-01 13:40:44      84137 LT05_CU_003003_19840507_20170711_C01_V01_LINEAGEQA.tif\r\n",
      "2018-10-01 13:40:44     506167 LT05_CU_003003_19840507_20170711_C01_V01_PIXELQA.tif\r\n",
      "2018-10-01 13:40:44     127399 LT05_CU_003003_19840507_20170711_C01_V01_RADSATQA.tif\r\n",
      "2018-10-01 13:40:44     640310 LT05_CU_003003_19840507_20170711_C01_V01_SRATMOSOPACITYQA.tif\r\n",
      "2018-10-01 13:40:44    6509482 LT05_CU_003003_19840507_20170711_C01_V01_SRB1.tif\r\n",
      "2018-10-01 13:40:44    5021360 LT05_CU_003003_19840507_20170711_C01_V01_SRB2.tif\r\n",
      "2018-10-01 13:40:44    5512718 LT05_CU_003003_19840507_20170711_C01_V01_SRB3.tif\r\n",
      "2018-10-01 13:40:44    7775422 LT05_CU_003003_19840507_20170711_C01_V01_SRB4.tif\r\n",
      "2018-10-01 13:40:44    7385768 LT05_CU_003003_19840507_20170711_C01_V01_SRB5.tif\r\n",
      "2018-10-01 13:40:44    5940966 LT05_CU_003003_19840507_20170711_C01_V01_SRB7.tif\r\n",
      "2018-10-01 13:40:44     359426 LT05_CU_003003_19840507_20170711_C01_V01_SRCLOUDQA.tif\r\n"
     ]
    }
   ],
   "source": [
    "! aws s3 ls s3://ga-odc-eros-ard-west/usard/LT05/19840507/"
   ]
  },
  {
   "cell_type": "code",
   "execution_count": 32,
   "metadata": {},
   "outputs": [
    {
     "name": "stdout",
     "output_type": "stream",
     "text": [
      "INFO,root,2018-11-11 13:30:49,307,xfer_time:22 file:LT05_CU_003003_19840507_20170711_C01_V01_BT.tar,\r\n",
      "INFO,root,2018-11-11 13:36:31,116,xfer_time:14 file:LT05_CU_003003_19840414_20170711_C01_V01_BT.tar,\r\n",
      "INFO,root,2018-11-11 13:36:38,274,xfer_time:7 file:LT05_CU_003003_19840507_20170711_C01_V01_BT.tar,\r\n",
      "INFO,2018-11-11 13:40:16,517,xfer_time:10 file:LT05_CU_003003_19840414_20170711_C01_V01_BT.tar,\r\n",
      "INFO,2018-11-11 13:42:29,012,xfer_time:132 file:LT05_CU_003003_19840507_20170711_C01_V01_BT.tar,\r\n"
     ]
    }
   ],
   "source": [
    "! tail /data/logs/* |grep xfer"
   ]
  },
  {
   "cell_type": "code",
   "execution_count": null,
   "metadata": {},
   "outputs": [],
   "source": []
  },
  {
   "cell_type": "code",
   "execution_count": null,
   "metadata": {},
   "outputs": [],
   "source": []
  }
 ],
 "metadata": {
  "kernelspec": {
   "display_name": "Python 3",
   "language": "python",
   "name": "python3"
  },
  "language_info": {
   "codemirror_mode": {
    "name": "ipython",
    "version": 3
   },
   "file_extension": ".py",
   "mimetype": "text/x-python",
   "name": "python",
   "nbconvert_exporter": "python",
   "pygments_lexer": "ipython3",
   "version": "3.5.2"
  }
 },
 "nbformat": 4,
 "nbformat_minor": 2
}

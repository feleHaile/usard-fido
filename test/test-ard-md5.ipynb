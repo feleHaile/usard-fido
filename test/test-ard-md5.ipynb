{
 "cells": [
  {
   "cell_type": "code",
   "execution_count": 1,
   "metadata": {
    "scrolled": true
   },
   "outputs": [],
   "source": [
    "from fido.ardtile import Tile"
   ]
  },
  {
   "cell_type": "code",
   "execution_count": 2,
   "metadata": {},
   "outputs": [
    {
     "name": "stdout",
     "output_type": "stream",
     "text": [
      "yay ths md5 file is here...\n",
      "\n"
     ]
    }
   ],
   "source": [
    "t = Tile()\n",
    "\n",
    "t.get_md5_list()"
   ]
  },
  {
   "cell_type": "code",
   "execution_count": 3,
   "metadata": {},
   "outputs": [
    {
     "name": "stdout",
     "output_type": "stream",
     "text": [
      "ee-notebook1.ipynb  h03v03.md5_list  Makefile  test-ard-md5.ipynb\r\n",
      "h03v03\t\t    junk.py\t     one.py\r\n"
     ]
    }
   ],
   "source": [
    "!ls\n"
   ]
  },
  {
   "cell_type": "code",
   "execution_count": 4,
   "metadata": {},
   "outputs": [
    {
     "name": "stdout",
     "output_type": "stream",
     "text": [
      "c35ba1d979cf6f0dc943e3fd0abd8d4c\tLC08_CU_003003_20130414_20170713_C01_V01_BT.tar\r\n",
      "1d17156a9a9e07623015719109fc3b61\tLC08_CU_003003_20130414_20170713_C01_V01_QA.tar\r\n",
      "a70bf6263fa3bce1dc135ef683fc4847\tLC08_CU_003003_20130414_20170713_C01_V01_SR.tar\r\n",
      "92e0ef70226b2be16df86338d261b926\tLC08_CU_003003_20130414_20170713_C01_V01_TA.tar\r\n",
      "b699e2a767b138ac63ca65bf71a85813\tLC08_CU_003003_20130421_20170713_C01_V01_BT.tar\r\n",
      "17321a4541ed0965e5a5474e82dbe53f\tLC08_CU_003003_20130421_20170713_C01_V01_QA.tar\r\n",
      "1a4a14d4bb6ff3df9186d3b449b491d3\tLC08_CU_003003_20130421_20170713_C01_V01_SR.tar\r\n",
      "76d97c218127297686ef37cfd31723e9\tLC08_CU_003003_20130421_20170713_C01_V01_TA.tar\r\n",
      "4a1a3a939107bded78fffdd011c70499\tLC08_CU_003003_20130423_20170713_C01_V01_BT.tar\r\n",
      "88cf6b14f72d86b83fdf2479d45043ff\tLC08_CU_003003_20130423_20170713_C01_V01_QA.tar\r\n"
     ]
    }
   ],
   "source": [
    "!head h03v03.md5_list"
   ]
  },
  {
   "cell_type": "code",
   "execution_count": 5,
   "metadata": {},
   "outputs": [
    {
     "name": "stdout",
     "output_type": "stream",
     "text": [
      "LC08_CU_003003_20130414_20170713_C01_V01_BT.tar\n",
      "hello from wgetxml getting file LC08_CU_003003_20130414_20170713_C01_V01_BT.tar\n",
      "wget -O ./h03v03/LC08_CU_003003_20130414_20170713_C01_V01_BT.tar https://edclpdsftp.cr.usgs.gov/downloads/collections/l2-ard-tiles/h03v03/LC08_CU_003003_20130414_20170713_C01_V01_BT.tar\n",
      "\n",
      "LC08_CU_003003_20130421_20170713_C01_V01_BT.tar\n",
      "hello from wgetxml getting file LC08_CU_003003_20130421_20170713_C01_V01_BT.tar\n",
      "wget -O ./h03v03/LC08_CU_003003_20130421_20170713_C01_V01_BT.tar https://edclpdsftp.cr.usgs.gov/downloads/collections/l2-ard-tiles/h03v03/LC08_CU_003003_20130421_20170713_C01_V01_BT.tar\n",
      "\n"
     ]
    }
   ],
   "source": [
    "cnt = 0\n",
    "max = 3\n",
    "for line in t.readlines('./h03v03.md5_list'):\n",
    "    cksum,file = line.split()\n",
    "    if ('BT'in file):\n",
    "        # print(line, end=\"\")\n",
    "        cnt = cnt + 1\n",
    "        if (cnt < max):\n",
    "            t.get_file(file)"
   ]
  },
  {
   "cell_type": "code",
   "execution_count": 7,
   "metadata": {},
   "outputs": [
    {
     "name": "stdout",
     "output_type": "stream",
     "text": [
      "LC08_CU_003003_20130414_20170713_C01_V01_BT.tar\r\n",
      "LC08_CU_003003_20130421_20170713_C01_V01_BT.tar\r\n"
     ]
    }
   ],
   "source": [
    "!ls h03v03\n"
   ]
  },
  {
   "cell_type": "code",
   "execution_count": 8,
   "metadata": {},
   "outputs": [
    {
     "name": "stdout",
     "output_type": "stream",
     "text": [
      "-rw-r--r-- 16497/18007 10487104 2017-07-13 16:53 LC08_CU_003003_20130414_20170713_C01_V01_BTB10.tif\r\n",
      "-rw-r--r-- 16497/18007 10390880 2017-07-13 16:55 LC08_CU_003003_20130414_20170713_C01_V01_BTB11.tif\r\n",
      "-rw-r--r-- 16497/18007   138029 2017-07-13 16:55 LC08_CU_003003_20130414_20170713_C01_V01_RADSATQA.tif\r\n",
      "-rw-r--r-- 16497/18007  1342485 2017-07-13 16:55 LC08_CU_003003_20130414_20170713_C01_V01_PIXELQA.tif\r\n",
      "-rw-r--r-- 16497/18007   160971 2017-07-13 16:56 LC08_CU_003003_20130414_20170713_C01_V01_LINEAGEQA.tif\r\n",
      "-rw-r--r-- 16497/18007    66463 2017-07-13 16:56 LC08_CU_003003_20130414_20170713_C01_V01.xml\r\n"
     ]
    }
   ],
   "source": [
    "! tar tvf ./h03v03/LC08_CU_003003_20130414_20170713_C01_V01_BT.tar"
   ]
  },
  {
   "cell_type": "code",
   "execution_count": null,
   "metadata": {},
   "outputs": [],
   "source": []
  }
 ],
 "metadata": {
  "kernelspec": {
   "display_name": "Python 3",
   "language": "python",
   "name": "python3"
  },
  "language_info": {
   "codemirror_mode": {
    "name": "ipython",
    "version": 3
   },
   "file_extension": ".py",
   "mimetype": "text/x-python",
   "name": "python",
   "nbconvert_exporter": "python",
   "pygments_lexer": "ipython3",
   "version": "3.5.2"
  }
 },
 "nbformat": 4,
 "nbformat_minor": 2
}
